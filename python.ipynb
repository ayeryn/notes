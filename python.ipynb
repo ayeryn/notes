{
 "cells": [
  {
   "cell_type": "markdown",
   "metadata": {},
   "source": [
    "# Python\n",
    "## OOP\n",
    "### Classes\n",
    "A class is defined by the `class` keyword followed by a name and a colon. `.__init__()` is used to declare which attributes each instance of the class should have: "
   ]
  },
  {
   "cell_type": "code",
   "execution_count": 2,
   "metadata": {},
   "outputs": [],
   "source": [
    "class Student:\n",
    "    def __init__(self, name, major):\n",
    "        self.name = name\n",
    "        self.major = major"
   ]
  },
  {
   "cell_type": "markdown",
   "metadata": {},
   "source": [
    "#### `__init()__`\n",
    "- Define the properties that all objects must have.\n",
    "- The first parameter will always be `self`.\n",
    "- Attributes created in `init` are called **instance attributes**. They are specific to each instance.\n",
    "\n",
    "#### Class Attributes\n",
    "**Class attributes** are attributes that have the same value for all class instances. They can be defined by assigning a value to a variable name outside of `init`.\n",
    "- They are defined directly beneath the first line of the class name.\n",
    "- We always need to assign them an initial value."
   ]
  },
  {
   "cell_type": "code",
   "execution_count": 4,
   "metadata": {},
   "outputs": [],
   "source": [
    "class Student:\n",
    "    university = 'UT Austin'\n",
    "\n",
    "    def __init__(self, name, major):\n",
    "        self.name = name\n",
    "        self.major = major\n",
    "        self.campus = 'Austin'"
   ]
  },
  {
   "cell_type": "markdown",
   "metadata": {},
   "source": [
    "#### Instantiation\n",
    "```python\n",
    "dog = Student('EL', 'CS')\n",
    "\n",
    "```"
   ]
  }
 ],
 "metadata": {
  "kernelspec": {
   "display_name": "Python 3",
   "language": "python",
   "name": "python3"
  },
  "language_info": {
   "codemirror_mode": {
    "name": "ipython",
    "version": 3
   },
   "file_extension": ".py",
   "mimetype": "text/x-python",
   "name": "python",
   "nbconvert_exporter": "python",
   "pygments_lexer": "ipython3",
   "version": "3.12.0"
  }
 },
 "nbformat": 4,
 "nbformat_minor": 2
}
