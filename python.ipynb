{
 "cells": [
  {
   "cell_type": "markdown",
   "metadata": {},
   "source": [
    "# Python"
   ]
  },
  {
   "cell_type": "markdown",
   "metadata": {},
   "source": [
    "## Handy Python Thangs"
   ]
  },
  {
   "cell_type": "markdown",
   "metadata": {},
   "source": [
    "### `zip`\n",
    "`zip(*iterables, strict=False)`    \n",
    "Iterate over several iterables in parallel, producing tuples with an item from each one."
   ]
  },
  {
   "cell_type": "code",
   "execution_count": 1,
   "metadata": {},
   "outputs": [
    {
     "name": "stdout",
     "output_type": "stream",
     "text": [
      "(1, 'Monday')\n",
      "(2, 'Tuesday')\n",
      "(3, 'Wednesday')\n"
     ]
    }
   ],
   "source": [
    "for item in zip([1, 2, 3], ['Monday', 'Tuesday', 'Wednesday']):\n",
    "    print(item)"
   ]
  },
  {
   "cell_type": "markdown",
   "metadata": {},
   "source": [
    "### `sorted` v `sort`\n",
    "#### `sorted`\n",
    "`sorted(iterable, /, *, key=None, reverse=False)`    \n",
    "Return a new sorted list from the items in iterable.\n",
    "\n",
    "#### `list.sort`\n",
    "`sort(*, key=None, reverse=False)`<br>\n",
    "This method sorts the list **in place**, using only < comparisons between items. Exceptions are not suppressed - if any comparison operations fail, the entire sort operation will fail (and the list will likely be left in a partially modified state).<br>\n",
    "Return `None`"
   ]
  },
  {
   "cell_type": "code",
   "execution_count": 14,
   "metadata": {},
   "outputs": [
    {
     "name": "stdout",
     "output_type": "stream",
     "text": [
      "sorted returns a new list\n",
      "prime sorted: [2, 3, 11, 13, 23]\n",
      "primes =  [13, 11, 3, 2, 23] \n",
      "\n",
      "sort operates in-place on the list\n",
      "odds =  [1, 3, 5, 11, 29]\n"
     ]
    }
   ],
   "source": [
    "# sorted\n",
    "primes = [13, 11, 3, 2, 23]\n",
    "print('sorted returns a new list')\n",
    "print('prime sorted:', sorted(primes))\n",
    "print('primes = ',primes, '\\n')\n",
    "\n",
    "# sort\n",
    "odds = [5, 29, 11, 1, 3]\n",
    "odds.sort()\n",
    "print('sort operates in-place on the list')\n",
    "print('odds = ', odds)\n"
   ]
  },
  {
   "cell_type": "markdown",
   "metadata": {},
   "source": [
    "### `str.join()`"
   ]
  },
  {
   "cell_type": "code",
   "execution_count": 2,
   "metadata": {},
   "outputs": [
    {
     "name": "stdout",
     "output_type": "stream",
     "text": [
      "hello world to you\n"
     ]
    }
   ],
   "source": [
    "l = ['hello', 'world', 'to', 'you']\n",
    "s = ' '.join(l)\n",
    "print(s)"
   ]
  },
  {
   "cell_type": "markdown",
   "metadata": {},
   "source": []
  },
  {
   "cell_type": "markdown",
   "metadata": {},
   "source": [
    "## OOP\n",
    "### Classes\n",
    "A class is defined by the `class` keyword followed by a name and a colon. `.__init__()` is used to declare which attributes each instance of the class should have: "
   ]
  },
  {
   "cell_type": "code",
   "execution_count": 2,
   "metadata": {},
   "outputs": [],
   "source": [
    "class Student:\n",
    "    def __init__(self, name, major):\n",
    "        self.name = name\n",
    "        self.major = major"
   ]
  },
  {
   "cell_type": "markdown",
   "metadata": {},
   "source": [
    "#### `__init()__`\n",
    "- Define the properties that all objects must have.\n",
    "- The first parameter will always be `self`.\n",
    "- Attributes created in `init` are called **instance attributes**. They are specific to each instance.\n",
    "\n",
    "#### Class Attributes\n",
    "**Class attributes** are attributes that have the same value for all class instances. They can be defined by assigning a value to a variable name outside of `init`.\n",
    "- They are defined directly beneath the first line of the class name.\n",
    "- We always need to assign them an initial value."
   ]
  },
  {
   "cell_type": "code",
   "execution_count": 4,
   "metadata": {},
   "outputs": [],
   "source": [
    "class Student:\n",
    "    university = 'UT Austin'\n",
    "\n",
    "    def __init__(self, name, major):\n",
    "        self.name = name\n",
    "        self.major = major\n",
    "        self.campus = 'Austin'"
   ]
  },
  {
   "cell_type": "markdown",
   "metadata": {},
   "source": [
    "#### Instantiation\n",
    "```python\n",
    "dog = Student('EL', 'CS')\n",
    "\n",
    "```"
   ]
  }
 ],
 "metadata": {
  "kernelspec": {
   "display_name": "Python 3",
   "language": "python",
   "name": "python3"
  },
  "language_info": {
   "codemirror_mode": {
    "name": "ipython",
    "version": 3
   },
   "file_extension": ".py",
   "mimetype": "text/x-python",
   "name": "python",
   "nbconvert_exporter": "python",
   "pygments_lexer": "ipython3",
   "version": "3.12.0"
  }
 },
 "nbformat": 4,
 "nbformat_minor": 2
}
